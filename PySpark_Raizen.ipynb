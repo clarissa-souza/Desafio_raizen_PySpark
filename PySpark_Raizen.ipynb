{
  "nbformat": 4,
  "nbformat_minor": 0,
  "metadata": {
    "colab": {
      "provenance": [],
      "authorship_tag": "ABX9TyNsicIF+rEZHUX8vx6VY/OM",
      "include_colab_link": true
    },
    "kernelspec": {
      "name": "python3",
      "display_name": "Python 3"
    },
    "language_info": {
      "name": "python"
    }
  },
  "cells": [
    {
      "cell_type": "markdown",
      "metadata": {
        "id": "view-in-github",
        "colab_type": "text"
      },
      "source": [
        "<a href=\"https://colab.research.google.com/github/clarissa-souza/Desafio_raizen_PySpark/blob/main/PySpark_Raizen.ipynb\" target=\"_parent\"><img src=\"https://colab.research.google.com/assets/colab-badge.svg\" alt=\"Open In Colab\"/></a>"
      ]
    },
    {
      "cell_type": "code",
      "source": [
        "pip install pyspark"
      ],
      "metadata": {
        "colab": {
          "base_uri": "https://localhost:8080/"
        },
        "id": "dPiYyVrFkXTC",
        "outputId": "7a47fd5f-2995-40b3-d8c4-9d33d3a515e6"
      },
      "execution_count": 2,
      "outputs": [
        {
          "output_type": "stream",
          "name": "stdout",
          "text": [
            "Looking in indexes: https://pypi.org/simple, https://us-python.pkg.dev/colab-wheels/public/simple/\n",
            "Collecting pyspark\n",
            "  Downloading pyspark-3.3.1.tar.gz (281.4 MB)\n",
            "\u001b[K     |████████████████████████████████| 281.4 MB 51 kB/s \n",
            "\u001b[?25hCollecting py4j==0.10.9.5\n",
            "  Downloading py4j-0.10.9.5-py2.py3-none-any.whl (199 kB)\n",
            "\u001b[K     |████████████████████████████████| 199 kB 63.9 MB/s \n",
            "\u001b[?25hBuilding wheels for collected packages: pyspark\n",
            "  Building wheel for pyspark (setup.py) ... \u001b[?25l\u001b[?25hdone\n",
            "  Created wheel for pyspark: filename=pyspark-3.3.1-py2.py3-none-any.whl size=281845512 sha256=665ef4d8465e819ee80878e6ac8c5541cea5786cf04d7222cc279338a798195e\n",
            "  Stored in directory: /root/.cache/pip/wheels/43/dc/11/ec201cd671da62fa9c5cc77078235e40722170ceba231d7598\n",
            "Successfully built pyspark\n",
            "Installing collected packages: py4j, pyspark\n",
            "Successfully installed py4j-0.10.9.5 pyspark-3.3.1\n"
          ]
        }
      ]
    },
    {
      "cell_type": "code",
      "execution_count": 3,
      "metadata": {
        "id": "CdKdV_IvS2R4"
      },
      "outputs": [],
      "source": [
        "# Importando as bibliotecas \n",
        "import os\n",
        "import json\n",
        "import requests\n",
        "from datetime import datetime, date\n",
        "from pyspark.sql import SparkSession\n",
        "from pyspark.sql import DataFrame\n",
        "from pyspark.sql import functions as F\n",
        "from pyspark.sql.functions import *\n",
        "from functools import reduce\n",
        "from pyspark.sql.types import StringType, DoubleType"
      ]
    },
    {
      "cell_type": "code",
      "source": [
        "#configurar a sparksession\n",
        "spark = (SparkSession.builder\n",
        "          .master('local[4]') #aqui eu defino a maquina principal nesse caso vou usar a maquina do colab 'local' se não fosse deveria colocar o endereço url dela obs.: 'local[4]' 4 é a quantidade de nucleos ou cores\n",
        "          .appName('pyspark-airflow') # o nome do app\n",
        "          .config('spark.ui.port','4050') # a porta onde vou rodar\n",
        "          .getOrCreate() #pegue ou crie\n",
        "          )"
      ],
      "metadata": {
        "id": "rO3ShuZrT2Dp"
      },
      "execution_count": 4,
      "outputs": []
    },
    {
      "cell_type": "code",
      "source": [
        "#Download dos arquivos\n",
        "def dados_diesel():\n",
        "  os.makedirs ('dadosOriginais',exist_ok = True)\n",
        "  url='https://www.gov.br/anp/pt-br/centrais-de-conteudo/dados-abertos/arquivos/vdpb/vct/vendas-oleo-diesel-tipo-m3-2013-2022.csv'\n",
        "  response = requests.get(url).content\n",
        "  open('dadosOriginais/vendas-oleo-diesel-tipo-m3-2013-2022.csv','wb').write(response)\n",
        "\n",
        "def dados_petroleo():\n",
        "  os.makedirs ('dadosOriginais',exist_ok = True)\n",
        "  url='https://www.gov.br/anp/pt-br/centrais-de-conteudo/dados-abertos/arquivos/vdpb/vendas-derivados-petroleo-e-etanol/vendas-derivados-petroleo-etanol-m3-1990-2022.csv'\n",
        "  response = requests.get(url).content\n",
        "  open('dadosOriginais/vendas-derivados-petroleo-etanol-m3-1990-2022.csv','wb').write(response)"
      ],
      "metadata": {
        "id": "KeaocedhVAHB"
      },
      "execution_count": 5,
      "outputs": []
    },
    {
      "cell_type": "code",
      "source": [
        "#Une os arquivos \n",
        "def unionAll(*dfs):\n",
        "  return reduce(DataFrame.unionAll, dfs)"
      ],
      "metadata": {
        "id": "klI7i34GX6ij"
      },
      "execution_count": 6,
      "outputs": []
    },
    {
      "cell_type": "code",
      "source": [
        "#Extracao dos dados\n",
        "def extracaoDados():\n",
        "  dfDiesel = (spark\n",
        "          .read\n",
        "          .format ('csv') \n",
        "          .option ('header','true') # para incluir o cabeçalho\n",
        "          .option('inferschema','true') #para ele dizer o esquema\n",
        "          .option('delimiter',';')\n",
        "          .load('/content/dadosOriginais/vendas-oleo-diesel-tipo-m3-2013-2022.csv')\n",
        "          )\n",
        "\n",
        "  dfPetroleo = (spark\n",
        "          .read\n",
        "          .format ('csv') \n",
        "          .option ('header','true') # para incluir o cabeçalho\n",
        "          .option('inferschema','true') #para ele dizer o esquema\n",
        "          .option('delimiter',';')\n",
        "          .load('/content/dadosOriginais/vendas-derivados-petroleo-etanol-m3-1990-2022.csv')\n",
        "          )\n",
        "  dfDadosExtraido = unionAll(*[dfDiesel, dfPetroleo])\n",
        "  return dfDadosExtraido"
      ],
      "metadata": {
        "id": "p7Pig4QFUBey"
      },
      "execution_count": 7,
      "outputs": []
    },
    {
      "cell_type": "code",
      "source": [
        "def trataDados(dfGeral):\n",
        "  #Bloquear a coluna que não é necessária\n",
        "  dfGeral=dfGeral.drop(F.col('GRANDE REGIÃO'))\n",
        "  #Alterar o nome das colunas\n",
        "  dfGeral=dfGeral.withColumnRenamed('ANO','year_month') \\\n",
        "               .withColumnRenamed('MÊS','mes') \\\n",
        "               .withColumnRenamed('UNIDADE DA FEDERAÇÃO','uf') \\\n",
        "               .withColumnRenamed('PRODUTO','product') \\\n",
        "               .withColumnRenamed('VENDAS','volume')  \n",
        "  #Alterando a coluna mes de nome para número ainda em string\n",
        "  mesDict={'JAN':'01','FEV':'02','MAR':'03','ABR':'04','MAI':'05','JUN':'06','JUL':'07','AGO':'08','SET':'09','OUT':'10','NOV':'11','DEZ':'12'}\n",
        "  dfGeral=dfGeral.rdd.map(lambda x: (x.year_month,mesDict[x.mes],x.uf,x.product,x.volume)).toDF(['year_month','mes','uf','product','volume'])\n",
        "  #Alterando a coluna ano para string\n",
        "  dfGeral = dfGeral.withColumn('year_month',dfGeral['year_month'].cast(StringType()))\n",
        "  # Juntando year_month com mes\n",
        "  dfGeral=dfGeral.withColumn('year_month',F.concat(F.col('year_month'),F.lit('-'),F.col('mes'))).drop(F.col('mes'))\n",
        "  #Alterando a coluna uf de nome estado para uf\n",
        "  ufDict={'ACRE':'AC','ALAGOAS':'AL','AMAPÁ':'AP','AMAZONAS':'AM','BAHIA':'BA','CEARÁ':'CE','DISTRITO FEDERAL':'DF','ESPÍRITO SANTO':'ES','GOIÁS':'GO','MARANHÃO':'MA','MATO GROSSO':'MT','MATO GROSSO DO SUL':'MS','MINAS GERAIS':'MG','PARANÁ':'PR','PARAÍBA':'PB','PARÁ':'PA','PERNAMBUCO':'PE','PIAUÍ':'PI','RIO DE JANEIRO':'RJ','RIO GRANDE DO NORTE':'RN','RIO GRANDE DO SUL':'RS','RONDÔNIA':'RO','RORAIMA':'RR','SANTA CATARINA':'SC','SERGIPE':'SE','SÃO PAULO':'SP','TOCANTINS':'TO'}\n",
        "  dfGeral=dfGeral.rdd.map(lambda x: (x.year_month,ufDict[x.uf],x.product,x.volume)).toDF(['year_month','uf','product','volume'])\n",
        "  #Inserindo a coluna unit\n",
        "  dfGeral = dfGeral.withColumn('unit',F.lit('m3'))\n",
        "  # Inserindo coluna created_at\n",
        "  dfGeral=dfGeral.withColumn('created_at',current_timestamp())\n",
        "  #alterando o volume de string para double \n",
        "  dfGeral = dfGeral.withColumn('volume', F.regexp_replace('volume', \",\", '.').cast(DoubleType()))\n",
        "  #alterando o volume de string para double \n",
        "  dfGeral = dfGeral.withColumn('year_month', to_date(F.col('year_month'),'yyyy-MM'))\n",
        "  return dfGeral\n"
      ],
      "metadata": {
        "id": "Swp2rFKPW8wT"
      },
      "execution_count": 8,
      "outputs": []
    },
    {
      "cell_type": "code",
      "source": [
        "def gravaDados(dfGravaDados):\n",
        "  os.makedirs ('dadosTratados',exist_ok = True)\n",
        "  dfGravaDados.write.format('json').save('dadosTratados/DadosDerivadosPrtroleo')"
      ],
      "metadata": {
        "id": "l2ql7FKlWx5F"
      },
      "execution_count": 9,
      "outputs": []
    },
    {
      "cell_type": "code",
      "source": [
        "#Execucao\n",
        "dados_diesel()\n",
        "dados_petroleo()"
      ],
      "metadata": {
        "id": "soGbnXSllUD7"
      },
      "execution_count": 10,
      "outputs": []
    },
    {
      "cell_type": "code",
      "source": [
        "dfDados=extracaoDados()"
      ],
      "metadata": {
        "id": "uv-DH9ljh3fR"
      },
      "execution_count": 11,
      "outputs": []
    },
    {
      "cell_type": "code",
      "source": [
        "dfDados.show(10)"
      ],
      "metadata": {
        "colab": {
          "base_uri": "https://localhost:8080/"
        },
        "id": "DgbQ-DjHhPxM",
        "outputId": "24311b4e-e0be-43c5-b5e0-153b4be7fbc9"
      },
      "execution_count": 12,
      "outputs": [
        {
          "output_type": "stream",
          "name": "stdout",
          "text": [
            "+----+---+-------------+--------------------+----------------+-------+\n",
            "| ANO|MÊS|GRANDE REGIÃO|UNIDADE DA FEDERAÇÃO|         PRODUTO| VENDAS|\n",
            "+----+---+-------------+--------------------+----------------+-------+\n",
            "|2013|JAN| REGIÃO NORTE|            RONDÔNIA|ÓLEO DIESEL S-10| 3517,6|\n",
            "|2013|FEV| REGIÃO NORTE|            RONDÔNIA|ÓLEO DIESEL S-10| 3681,7|\n",
            "|2013|MAR| REGIÃO NORTE|            RONDÔNIA|ÓLEO DIESEL S-10|4700,67|\n",
            "|2013|ABR| REGIÃO NORTE|            RONDÔNIA|ÓLEO DIESEL S-10| 5339,2|\n",
            "|2013|MAI| REGIÃO NORTE|            RONDÔNIA|ÓLEO DIESEL S-10| 6166,4|\n",
            "|2013|JUN| REGIÃO NORTE|            RONDÔNIA|ÓLEO DIESEL S-10|6539,65|\n",
            "|2013|JUL| REGIÃO NORTE|            RONDÔNIA|ÓLEO DIESEL S-10| 7283,7|\n",
            "|2013|AGO| REGIÃO NORTE|            RONDÔNIA|ÓLEO DIESEL S-10|8082,85|\n",
            "|2013|SET| REGIÃO NORTE|            RONDÔNIA|ÓLEO DIESEL S-10|7902,55|\n",
            "|2013|OUT| REGIÃO NORTE|            RONDÔNIA|ÓLEO DIESEL S-10|9383,15|\n",
            "+----+---+-------------+--------------------+----------------+-------+\n",
            "only showing top 10 rows\n",
            "\n"
          ]
        }
      ]
    },
    {
      "cell_type": "code",
      "source": [
        "dfPetroleo=trataDados(dfDados)"
      ],
      "metadata": {
        "id": "hJKgyF461tGO"
      },
      "execution_count": 13,
      "outputs": []
    },
    {
      "cell_type": "code",
      "source": [
        "dfPetroleo.printSchema()"
      ],
      "metadata": {
        "colab": {
          "base_uri": "https://localhost:8080/"
        },
        "id": "PMgIU5Z04KMw",
        "outputId": "fcb2284b-f030-410b-a7fa-5ab322efb885"
      },
      "execution_count": 15,
      "outputs": [
        {
          "output_type": "stream",
          "name": "stdout",
          "text": [
            "root\n",
            " |-- year_month: date (nullable = true)\n",
            " |-- uf: string (nullable = true)\n",
            " |-- product: string (nullable = true)\n",
            " |-- volume: double (nullable = true)\n",
            " |-- unit: string (nullable = false)\n",
            " |-- created_at: timestamp (nullable = false)\n",
            "\n"
          ]
        }
      ]
    },
    {
      "cell_type": "code",
      "source": [
        "dfPetroleo.show(10)"
      ],
      "metadata": {
        "colab": {
          "base_uri": "https://localhost:8080/"
        },
        "id": "4byMZB0cgvRh",
        "outputId": "d9b577ea-a1db-4ba2-fbb5-5ec0716cdd04"
      },
      "execution_count": 16,
      "outputs": [
        {
          "output_type": "stream",
          "name": "stdout",
          "text": [
            "+----------+---+----------------+-------+----+--------------------+\n",
            "|year_month| uf|         product| volume|unit|          created_at|\n",
            "+----------+---+----------------+-------+----+--------------------+\n",
            "|2013-01-01| RO|ÓLEO DIESEL S-10| 3517.6|  m3|2022-12-08 11:52:...|\n",
            "|2013-02-01| RO|ÓLEO DIESEL S-10| 3681.7|  m3|2022-12-08 11:52:...|\n",
            "|2013-03-01| RO|ÓLEO DIESEL S-10|4700.67|  m3|2022-12-08 11:52:...|\n",
            "|2013-04-01| RO|ÓLEO DIESEL S-10| 5339.2|  m3|2022-12-08 11:52:...|\n",
            "|2013-05-01| RO|ÓLEO DIESEL S-10| 6166.4|  m3|2022-12-08 11:52:...|\n",
            "|2013-06-01| RO|ÓLEO DIESEL S-10|6539.65|  m3|2022-12-08 11:52:...|\n",
            "|2013-07-01| RO|ÓLEO DIESEL S-10| 7283.7|  m3|2022-12-08 11:52:...|\n",
            "|2013-08-01| RO|ÓLEO DIESEL S-10|8082.85|  m3|2022-12-08 11:52:...|\n",
            "|2013-09-01| RO|ÓLEO DIESEL S-10|7902.55|  m3|2022-12-08 11:52:...|\n",
            "|2013-10-01| RO|ÓLEO DIESEL S-10|9383.15|  m3|2022-12-08 11:52:...|\n",
            "+----------+---+----------------+-------+----+--------------------+\n",
            "only showing top 10 rows\n",
            "\n"
          ]
        }
      ]
    },
    {
      "cell_type": "code",
      "source": [
        "gravaDados(dfPetroleo)"
      ],
      "metadata": {
        "id": "j89Hd50g65pL"
      },
      "execution_count": null,
      "outputs": []
    }
  ]
}