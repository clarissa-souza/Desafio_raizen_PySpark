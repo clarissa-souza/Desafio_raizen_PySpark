{
  "nbformat": 4,
  "nbformat_minor": 0,
  "metadata": {
    "colab": {
      "provenance": [],
      "authorship_tag": "ABX9TyOxSaINFVFbamRPb1byUN9E",
      "include_colab_link": true
    },
    "kernelspec": {
      "name": "python3",
      "display_name": "Python 3"
    },
    "language_info": {
      "name": "python"
    }
  },
  "cells": [
    {
      "cell_type": "markdown",
      "metadata": {
        "id": "view-in-github",
        "colab_type": "text"
      },
      "source": [
        "<a href=\"https://colab.research.google.com/github/clarissa-souza/Desafio_raizen_PySpark/blob/main/PySpark_Raizen.ipynb\" target=\"_parent\"><img src=\"https://colab.research.google.com/assets/colab-badge.svg\" alt=\"Open In Colab\"/></a>"
      ]
    },
    {
      "cell_type": "code",
      "source": [
        "#Instalando PySpark\n",
        "pip install pyspark"
      ],
      "metadata": {
        "id": "UNPnMinhTCj1"
      },
      "execution_count": null,
      "outputs": []
    },
    {
      "cell_type": "code",
      "execution_count": 10,
      "metadata": {
        "id": "CdKdV_IvS2R4"
      },
      "outputs": [],
      "source": [
        "# Importando as bibliotecas \n",
        "import os\n",
        "import json\n",
        "import requests\n",
        "from datetime import datetime, date\n",
        "from pyspark.sql import SparkSession\n",
        "from pyspark.sql import DataFrame\n",
        "from pyspark.sql import functions as F\n",
        "from pyspark.sql.functions import *\n",
        "from functools import reduce\n",
        "from pyspark.sql.types import StringType"
      ]
    },
    {
      "cell_type": "code",
      "source": [
        "#configurar a sparksession\n",
        "spark = (SparkSession.builder\n",
        "          .master('local[4]') #aqui eu defino a maquina principal nesse caso vou usar a maquina do colab 'local' se não fosse deveria colocar o endereço url dela obs.: 'local[4]' 4 é a quantidade de nucleos ou cores\n",
        "          .appName('pyspark-airflow') # o nome do app\n",
        "          .config('spark.ui.port','4050') # a porta onde vou rodar\n",
        "          .getOrCreate() #pegue ou crie\n",
        "          )"
      ],
      "metadata": {
        "id": "rO3ShuZrT2Dp"
      },
      "execution_count": 2,
      "outputs": []
    },
    {
      "cell_type": "code",
      "source": [
        "#Download dos arquivos\n",
        "def dados_diesel():\n",
        "  os.makedirs ('dadosOriginais',exist_ok = True)\n",
        "  url='https://www.gov.br/anp/pt-br/centrais-de-conteudo/dados-abertos/arquivos/vdpb/vct/vendas-oleo-diesel-tipo-m3-2013-2022.csv'\n",
        "  response = requests.get(url).content\n",
        "  open('dadosOriginais/vendas-oleo-diesel-tipo-m3-2013-2022.csv','wb').write(response)\n",
        "\n",
        "def dados_petroleo():\n",
        "  os.makedirs ('dadosOriginais',exist_ok = True)\n",
        "  url='https://www.gov.br/anp/pt-br/centrais-de-conteudo/dados-abertos/arquivos/vdpb/vendas-derivados-petroleo-e-etanol/vendas-derivados-petroleo-etanol-m3-1990-2022.csv'\n",
        "  response = requests.get(url).content\n",
        "  open('dadosOriginais/vendas-derivados-petroleo-etanol-m3-1990-2022.csv','wb').write(response)"
      ],
      "metadata": {
        "id": "KeaocedhVAHB"
      },
      "execution_count": 3,
      "outputs": []
    },
    {
      "cell_type": "code",
      "source": [
        "#Une os arquivos \n",
        "def unionAll(*dfs):\n",
        "  return reduce(DataFrame.unionAll, dfs)"
      ],
      "metadata": {
        "id": "klI7i34GX6ij"
      },
      "execution_count": 4,
      "outputs": []
    },
    {
      "cell_type": "code",
      "source": [
        "#Extracao dos dados\n",
        "def extracaoDados():\n",
        "  dfDiesel = (spark\n",
        "          .read\n",
        "          .format ('csv') \n",
        "          .option ('header','true') # para incluir o cabeçalho\n",
        "          .option('inferschema','true') #para ele dizer o esquema\n",
        "          .option('delimiter',';')\n",
        "          .load('/content/dadosOriginais/vendas-oleo-diesel-tipo-m3-2013-2022.csv')\n",
        "          )\n",
        "\n",
        "  dfPetroleo = (spark\n",
        "          .read\n",
        "          .format ('csv') \n",
        "          .option ('header','true') # para incluir o cabeçalho\n",
        "          .option('inferschema','true') #para ele dizer o esquema\n",
        "          .option('delimiter',';')\n",
        "          .load('/content/dadosOriginais/vendas-derivados-petroleo-etanol-m3-1990-2022.csv')\n",
        "          )\n",
        "  dfDadosExtraido = unionAll(*[dfDiesel, dfPetroleo])\n",
        "  return dfDadosExtraido"
      ],
      "metadata": {
        "id": "p7Pig4QFUBey"
      },
      "execution_count": 5,
      "outputs": []
    },
    {
      "cell_type": "code",
      "source": [
        "def trataDados(dfGeral):\n",
        "  #Bloquear a coluna que não é necessária\n",
        "  dfGeral=dfGeral.drop(F.col('GRANDE REGIÃO'))\n",
        "  #Alterar o nome das colunas\n",
        "  dfGeral=dfGeral.withColumnRenamed('ANO','year_month') \\\n",
        "               .withColumnRenamed('MÊS','mes') \\\n",
        "               .withColumnRenamed('UNIDADE DA FEDERAÇÃO','uf') \\\n",
        "               .withColumnRenamed('PRODUTO','product') \\\n",
        "               .withColumnRenamed('VENDAS','volume')  \n",
        "  #Alterando a coluna mes de nome para número ainda em string\n",
        "  mesDict={'JAN':'01','FEV':'02','MAR':'03','ABR':'04','MAI':'05','JUN':'06','JUL':'07','AGO':'08','SET':'09','OUT':'10','NOV':'11','DEZ':'12'}\n",
        "  dfGeral=dfGeral.rdd.map(lambda x: (x.year_month,x.uf,x.product,x.volume,mesDict[x.mes])).toDF(['year_month','uf','product','volume','mes'])\n",
        "  #Alterando a coluna ano para string\n",
        "  dfGeral = dfGeral.withColumn('year_month',dfGeral['year_month'].cast(StringType()))\n",
        "  # Juntando year_month com mes\n",
        "  dfGeral=dfGeral.withColumn('year_month',F.concat(F.col('year_month'),F.lit('-'),F.col('mes'))).drop(F.col('mes'))\n",
        "  #Alterando a coluna uf de nome estado para uf\n",
        "  ufDict={'ACRE':'AC','ALAGOAS':'AL','AMAPÁ':'AP','AMAZONAS':'AM','BAHIA':'BA','CEARÁ':'CE','DISTRITO FEDERAL':'DF','ESPÍRITO SANTO':'ES','GOIÁS':'GO','MARANHÃO':'MA','MATO GROSSO':'MT','MATO GROSSO DO SUL':'MS','MINAS GERAIS':'MG','PARANÁ':'PR','PARAÍBA':'PB','PARÁ':'PA','PERNAMBUCO':'PE','PIAUÍ':'PI','RIO DE JANEIRO':'RJ','RIO GRANDE DO NORTE':'RN','RIO GRANDE DO SUL':'RS','RONDÔNIA':'RO','RORAIMA':'RR','SANTA CATARINA':'SC','SERGIPE':'SE','SÃO PAULO':'SP','TOCANTINS':'TO'}\n",
        "  dfGeral=dfGeral.rdd.map(lambda x: (x.year_month,ufDict[x.uf],x.product,x.volume)).toDF(['year_month','uf','product','volume'])\n",
        "  #Inserindo a coluna unit\n",
        "  dfGeral = dfGeral.withColumn('unit',F.lit('m3'))\n",
        "  # Inserindo coluna created_at\n",
        "  dfGeral=dfGeral.withColumn('created_at',current_timestamp())\n",
        "  #alterando o volume de string para double \n",
        "  dfGeral = dfGeral.withColumn('volume',dfGeral['volume'].cast('double'))\n",
        "  #alterando o volume de string para double \n",
        "  dfGeral = dfGeral.withColumn('year_month', to_date(F.col('year_month'),'yyyy-MM'))\n",
        "  return dfGeral\n"
      ],
      "metadata": {
        "id": "Swp2rFKPW8wT"
      },
      "execution_count": 6,
      "outputs": []
    },
    {
      "cell_type": "code",
      "source": [
        "def gravaDados(dfGravaDados):\n",
        "  os.makedirs ('dadosTratados',exist_ok = True)\n",
        "  dfGravaDados.write.format('json').save('dadosTratados/DadosDerivadosPrtroleo.json')"
      ],
      "metadata": {
        "id": "l2ql7FKlWx5F"
      },
      "execution_count": 15,
      "outputs": []
    },
    {
      "cell_type": "code",
      "source": [
        "#Execucao\n",
        "dados_diesel()\n",
        "dados_petroleo()"
      ],
      "metadata": {
        "id": "soGbnXSllUD7"
      },
      "execution_count": 7,
      "outputs": []
    },
    {
      "cell_type": "code",
      "source": [
        "dfDados=extracaoDados()"
      ],
      "metadata": {
        "id": "uv-DH9ljh3fR"
      },
      "execution_count": 8,
      "outputs": []
    },
    {
      "cell_type": "code",
      "source": [
        "dfPetroleo=trataDados(dfDados)"
      ],
      "metadata": {
        "id": "hJKgyF461tGO"
      },
      "execution_count": 11,
      "outputs": []
    },
    {
      "cell_type": "code",
      "source": [
        "dfPetroleo.printSchema()"
      ],
      "metadata": {
        "colab": {
          "base_uri": "https://localhost:8080/"
        },
        "id": "PMgIU5Z04KMw",
        "outputId": "7a39b284-42da-49de-c2f4-573232901a51"
      },
      "execution_count": 17,
      "outputs": [
        {
          "output_type": "stream",
          "name": "stdout",
          "text": [
            "root\n",
            " |-- year_month: date (nullable = true)\n",
            " |-- uf: string (nullable = true)\n",
            " |-- product: string (nullable = true)\n",
            " |-- volume: double (nullable = true)\n",
            " |-- unit: string (nullable = false)\n",
            " |-- created_at: timestamp (nullable = false)\n",
            "\n"
          ]
        }
      ]
    },
    {
      "cell_type": "code",
      "source": [
        "gravaDados(dfPetroleo)"
      ],
      "metadata": {
        "id": "j89Hd50g65pL"
      },
      "execution_count": 16,
      "outputs": []
    }
  ]
}